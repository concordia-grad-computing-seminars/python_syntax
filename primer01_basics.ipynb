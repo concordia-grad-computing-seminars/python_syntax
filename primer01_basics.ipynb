{
 "cells": [
  {
   "cell_type": "markdown",
   "id": "51f560c1",
   "metadata": {},
   "source": [
    "Python Variables, Sequences, Mappings, Objects and Pointers\n",
    "===========================================================\n",
    "\n",
    "Scalar Variable Types and Multiple Assignment\n",
    "------------------------\n",
    "We will jump in to Python the same way we do with other languages: learning how to assign and manipulate variables.  Here's our overly simplified Hello-World example:\n"
   ]
  },
  {
   "cell_type": "code",
   "execution_count": null,
   "id": "a3dd8e1c",
   "metadata": {},
   "outputs": [],
   "source": [
    "a   = 5      # Integers\n",
    "B   = 2.5    # Floating point reals\n",
    "c10 = 3 + 7j # Complex numbers, 'j' sets the imaginary part.\n",
    "d_1 = False  # Boolean values\n",
    "print(a)\n",
    "print(B)\n",
    "print(c10)\n",
    "print(d_1)\n",
    "print( a * c10 )"
   ]
  },
  {
   "cell_type": "markdown",
   "id": "be8b98c2",
   "metadata": {},
   "source": [
    "This bit of code illustrates several concepts:\n",
    "\n",
    "* There are four basic variable types: ints, floats, complex, and bools.\n",
    "* The usual rules apply for variable naming: Must start with a number, underscores and numbers allowed.\n",
    "* Python is **case sensitive**.  \"B\" is a declared variable, \"b\" is not!\n",
    "* Note that boolean True and False must capitalized.\n",
    "* We see our happy print statement acting as expected.  Hello, world!\n",
    "* In Python 3, mixed-mode arithmatic uses the highest precision variable type in the result.  **This was not true in Python 2.x!!**\n",
    "\n",
    "There are functions that allow us to change variable types (e.g., *int()* and *real()*).\n",
    "Let's define our values again, but differently.\n",
    "\n"
   ]
  },
  {
   "cell_type": "code",
   "execution_count": null,
   "id": "db12f37f",
   "metadata": {},
   "outputs": [],
   "source": [
    "a, b, c = 1, 2, 3  # this is MULTIPLE ASSIGNMENT!\n",
    "print(a)\n",
    "print(c)\n",
    "var1 = var2 = var3 = 10  # This is also multiple assignment!\n",
    "print(var1)\n",
    "print(var3)"
   ]
  },
  {
   "cell_type": "markdown",
   "id": "5d473bb5",
   "metadata": {},
   "source": [
    "    1\n",
    "    3\n",
    "    10\n",
    "    10"
   ]
  },
  {
   "cell_type": "markdown",
   "id": "ddaa85fc",
   "metadata": {},
   "source": [
    "This bit of code demonstrates a critical concept in Python: **Multiple Assignment**.  It seems trivial: we can define more than one variable in one line.  However, as you will see once we begin to work with loops and functions, it is an important concept to see how things operate in Python.  It's also very convenient.\n",
    "\n",
    "Sequences\n",
    "---------\n",
    "Let's continue with somewhat more complicated data types: sequences.  Sequences are anything that can be indexed in a set order.  Our first sequence type is... a string!\n"
   ]
  },
  {
   "cell_type": "code",
   "execution_count": null,
   "id": "fb524310",
   "metadata": {},
   "outputs": [],
   "source": [
    "a='Ferrets are friends.'\n",
    "print('Our string is \"%s\"' % a) # Old, c-like format codes.\n",
    "print('Anoter way is to write \"{}\"'.format(a))  # New, Python3-like format codes."
   ]
  },
  {
   "cell_type": "markdown",
   "id": "2c88b888",
   "metadata": {},
   "source": [
    "Here, we declare a string and store it using the variable name \"a\".  Then, we print it to screen with some extra text attached.  We use C-like \"%\" syntax to substitute variables into string literals.\n",
    "**NOTE**: This behavior has changed in Python 3 and is forward-compatible in Python 2.7.  Users should use the new formatting syntax, [summarized here](http://docs.python.org/2/library/string.html#formatstrings).  The old methods are [summarized here](http://mkaz.com/solog/python/python-string-format.html), mid-page, amongst other places.\n",
    "In the final line, we use the new Python3-like syntax.  That will be our standard moving forward.\n",
    "\n",
    "Sequences can be **indexed** and **sliced**.  Python indexing is useful if unsurprising:\n"
   ]
  },
  {
   "cell_type": "code",
   "execution_count": null,
   "id": "90bbdd94",
   "metadata": {},
   "outputs": [],
   "source": [
    "print(a[3])     # Index a single character.\n",
    "print(a[0:2])   # Slice a range (zero based, up to the last number!)\n",
    "print(a[0:10:2])# Use a third number to skip-count.\n",
    "print(a[-1])    # Negative indexing is useful!\n",
    "print(a[::-1])  # Backwards."
   ]
  },
  {
   "cell_type": "markdown",
   "id": "62263da4",
   "metadata": {},
   "source": [
    "You can add strings and multiply them by integers.\n"
   ]
  },
  {
   "cell_type": "code",
   "execution_count": null,
   "id": "b7c1b9fd",
   "metadata": {},
   "outputs": [],
   "source": [
    "print(a + '\\tSnakes, not so much.')  # Note the usual escape character syntax.\n",
    "print(5*(a+'\\t'))"
   ]
  },
  {
   "cell_type": "markdown",
   "id": "47d54363",
   "metadata": {},
   "source": [
    "We can check if something is _in_ a sequence.  Testing for **in** is very useful.\n"
   ]
  },
  {
   "cell_type": "code",
   "execution_count": null,
   "id": "1f318b70",
   "metadata": {},
   "outputs": [],
   "source": [
    "print('Ferrets' in a)\n",
    "print('Dogs' in a)"
   ]
  },
  {
   "cell_type": "markdown",
   "id": "8e25a8b7",
   "metadata": {},
   "source": [
    "Lists and Tuples are sequences just like strings, but each item can be ANYTHING.  The only difference between lists and tuples is that tuples use regular parentheses and are _immutable_, that is, they cannot be changed in place.\n"
   ]
  },
  {
   "cell_type": "code",
   "execution_count": null,
   "id": "e71884e5",
   "metadata": {},
   "outputs": [],
   "source": [
    "l1 = [1, 2, 3, 4] # A list of numbers.\n",
    "print(l1[0::2])"
   ]
  },
  {
   "cell_type": "code",
   "execution_count": null,
   "id": "8db2f512",
   "metadata": {},
   "outputs": [],
   "source": [
    "l2 = ['a', 'list', 'of', 'string', 'sequences']\n",
    "print(l2)"
   ]
  },
  {
   "cell_type": "markdown",
   "id": "5183ae21",
   "metadata": {},
   "source": [
    "Lists and tuples need not be homogenous.  Because each list item can be anything, you can nest lists inside lists.  To access an element within a list nested within a list, just use compound referencing:\n"
   ]
  },
  {
   "cell_type": "code",
   "execution_count": null,
   "id": "8b4cd9fa",
   "metadata": {},
   "outputs": [],
   "source": [
    "l3 = ['a list of', 'different things', 120, ['a', 'nested', 'sublist'], 12412.124]\n",
    "# Get to nested objects using a chain of proper syntax!\n",
    "print(l3[3][1])"
   ]
  },
  {
   "cell_type": "markdown",
   "id": "74ab4429",
   "metadata": {},
   "source": [
    "Note how this works: `l3` is a list; `l3[3]` is the 3rd item (0-based indexing, so 4th overall!), which is a list itself; the first item of the list within `l3[3]` is therefore `l3[3][1]`.  Leverage this nesting capability to build complicated but easy-to-navigate data structures.\n",
    "\n",
    "To demonstrate a previous point, watch what happens when we try to change a tuple:\n"
   ]
  },
  {
   "cell_type": "code",
   "execution_count": null,
   "id": "9b74993c",
   "metadata": {
    "lines_to_next_cell": 2
   },
   "outputs": [],
   "source": [
    "t1 = ('Tuples', 'are', 'similar')\n",
    "t1[2] = ('but', 'cannot', 'be', 'changed')"
   ]
  },
  {
   "cell_type": "code",
   "execution_count": null,
   "id": "375d306b",
   "metadata": {
    "lines_to_next_cell": 2
   },
   "outputs": [],
   "source": [
    "a[3]='B'"
   ]
  },
  {
   "cell_type": "code",
   "execution_count": null,
   "id": "5539d355",
   "metadata": {},
   "outputs": [],
   "source": [
    "listA = [1,2,3,4,5]; listB = listA # Use semicolons to delimit separate commands on a single line.\n",
    "print(listA, listB)\n",
    "listA[-1] = 10\n",
    "print(listA, listB)"
   ]
  },
  {
   "cell_type": "markdown",
   "id": "59710609",
   "metadata": {},
   "source": [
    "Whoa.  We changed $a$, but both $a$ and $b$ are changed.  This is because **everything in Python is a pointer**.  This is important to keep in mind when writing programs.  Additionally, it means that Python passes everything by reference and not by value.\n",
    "\n",
    "There are several built in functions to work with sequences:\n"
   ]
  },
  {
   "cell_type": "code",
   "execution_count": null,
   "id": "b92bd2ef",
   "metadata": {},
   "outputs": [],
   "source": [
    "print(len(a))     # len gives length.\n",
    "print(min(l1))    # Min and max exist for lists of numbers.\n",
    "print(list(a))    # There are many conversion functions, too, like \"int\" and \"bool\""
   ]
  },
  {
   "cell_type": "markdown",
   "id": "2f2bcc9b",
   "metadata": {},
   "source": [
    "But the real power to work with sequences lies not in Built In Functions (BIFs) but _object methods_.\n",
    "Python Objects\n",
    "--------------\n",
    "In python, **EVERYTHING IS AN OBJECT**.  That means that everything has _object attributes_ and _object methods_.  We access those using dot syntax.  Methods are just functions specific to that object while attributes are just values specific to that object.  To demonstrate, let's make a numpy array object, which is very similar to a list but has special attributes and methods.  Note that Numpy is an external package that may require installation.  [More information on Numpy can be found here.](http://www.numpy.org/)\n"
   ]
  },
  {
   "cell_type": "code",
   "execution_count": null,
   "id": "0f72e9a0",
   "metadata": {},
   "outputs": [],
   "source": [
    "import numpy\n",
    "b=numpy.arange(5)\n",
    "print(b)       # This is what \"b\" looks like.\n",
    "print(b.shape) # This attribute tells us that \"b\" is 1D.\n",
    "print(b.mean())# This method gives us the mean of all values within \"b\".\n",
    "print(b.mean)  # Printing without the parentheses tells us it's a method."
   ]
  },
  {
   "cell_type": "markdown",
   "id": "0372726c",
   "metadata": {},
   "source": [
    "By exploring object methods, we see that our sequences do a lot of really cool stuff.  Even better, the **help()** function (IPython's _?_ operator) and IPython's tab-complete allow for on-the-fly object exploration.\n"
   ]
  },
  {
   "cell_type": "code",
   "execution_count": null,
   "id": "0dc1c944",
   "metadata": {},
   "outputs": [],
   "source": [
    "help(a.upper)\n",
    "print(a.upper())"
   ]
  },
  {
   "cell_type": "code",
   "execution_count": null,
   "id": "37452e24",
   "metadata": {},
   "outputs": [],
   "source": [
    "help(l1.pop)\n",
    "print(l1)\n",
    "l1.pop(0)\n",
    "print(l1)"
   ]
  },
  {
   "cell_type": "code",
   "execution_count": null,
   "id": "cec08853",
   "metadata": {},
   "outputs": [],
   "source": [
    "d1 = {'Dan':'Super person', 'Aaron':'Okay in small doses'}\n",
    "# Curly braces denote dictionaries, colons separate keys and values, comma separates pairs.\n",
    "print(d1)\n",
    "# Access a single value by key (note how we accessed our nested method):\n",
    "print(\"{0} sure is a {1}.\".format('Dan', d1['Dan'].lower()))\n",
    "# Change a value by key:\n",
    "d1['Aaron'] = 'Better over time.'\n",
    "# Add new values easily:\n",
    "d1['Mike'] = 'Less vulgar than Aaron but more beardy.'\n",
    "print(d1)"
   ]
  },
  {
   "cell_type": "markdown",
   "id": "4afabf9e",
   "metadata": {},
   "source": [
    "Per the usual, dictionaries have really cool methods.  They also sometimes work like sequences.\n"
   ]
  },
  {
   "cell_type": "code",
   "execution_count": null,
   "id": "ff2fe4d3",
   "metadata": {},
   "outputs": [],
   "source": [
    "print(d1.keys())          # Print all keys in dictionary \"d1\".\n",
    "print(d1.values())        # Print all values in \"d1\".\n",
    "print('Bryan' in d1)      # Does \"d1\" have the key \"Bryan\"?"
   ]
  },
  {
   "cell_type": "markdown",
   "id": "22e887e9",
   "metadata": {},
   "source": [
    "A dictionary value can be any object.  Because everything is an object in Python, you can put functions, lists, objects, modules, ANYTHING into a dictionary.\n"
   ]
  },
  {
   "cell_type": "code",
   "execution_count": null,
   "id": "5e5dadd2",
   "metadata": {},
   "outputs": [],
   "source": [
    "d2={'a':a, 'l2':l2, 'len':len}  # Store two lists and a function in a dictionary.\n",
    "print(d2['len'](d2['l2']))       # Use the function inside the dictionary to act on a list."
   ]
  },
  {
   "cell_type": "markdown",
   "id": "1bbe1d45",
   "metadata": {},
   "source": [
    "What we did here was execute the function __len__, stored in dictionary _d2_ under key _'len'_, by handing it list _l2_ stored in _d2_ under key _'l2'_.  Note how we use the syntax: we used parentheses to treat the syntax _d2['len']_ as if we had called __len__ explicitly.  This natural way to store and access objects in complicated structures is one of Python's strengths.\n"
   ]
  }
 ],
 "metadata": {
  "jupytext": {
   "formats": "ipynb,md"
  },
  "kernelspec": {
   "display_name": "Python 3 (ipykernel)",
   "language": "python",
   "name": "python3"
  },
  "language_info": {
   "codemirror_mode": {
    "name": "ipython",
    "version": 3
   },
   "file_extension": ".py",
   "mimetype": "text/x-python",
   "name": "python",
   "nbconvert_exporter": "python",
   "pygments_lexer": "ipython3",
   "version": "3.10.6"
  }
 },
 "nbformat": 4,
 "nbformat_minor": 5
}
